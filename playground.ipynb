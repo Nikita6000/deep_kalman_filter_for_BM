{
 "cells": [
  {
   "cell_type": "markdown",
   "metadata": {},
   "source": [
    "$$\n",
    "z_1 \\sim N(µ_0; \\Sigma_0)\n",
    "$$\n",
    "$$\n",
    "z_t \\sim N(G_{\\alpha}(z_{t−1},u_{t−1}),S_{\\beta}(z_{t−1},u_{t−1})) \n",
    "$$\n",
    "$$\n",
    "x_t ∼ Π(F_κ(z_t)).\n",
    "$$"
   ]
  },
  {
   "cell_type": "code",
   "execution_count": 1,
   "metadata": {},
   "outputs": [],
   "source": [
    "import numpy as np\n",
    "import torch\n",
    "from torch import Tensor"
   ]
  },
  {
   "cell_type": "markdown",
   "metadata": {},
   "source": [
    "A toy example (classic Kalman filter)\n",
    "\n",
    "Assuming\n",
    "x are vectors of lenght 11, \n",
    "z are vectors of lenght 7,\n",
    "u are vectros of length 3"
   ]
  },
  {
   "cell_type": "code",
   "execution_count": 3,
   "metadata": {},
   "outputs": [],
   "source": [
    "m0 = Tensor(np.zeros(7))\n",
    "S0 = Tensor(np.ones(7))\n",
    "\n",
    "Gt = torch.randn((7, 7), requires_grad=True)\n",
    "Bt = torch.randn((7, 3), requires_grad=True)\n",
    "Ft = torch.randn((11, 7), requires_grad=True)  \n",
    "St = torch.randn((7), requires_grad=True) # varience of z\n",
    "\n",
    "def Ga(G, B, z, u):  # from z_{t-1} to z_t\n",
    "    return G @ z + B @ u\n",
    "\n",
    "def Fk(F, z):     # from z to x\n",
    "    return F @ z\n",
    "\n",
    "# as far as i understand, i will assume q is a normal distributioт N(phi @ xt, Sphi)\n",
    "phi = torch.randn((7, 11), requires_grad=True)  \n",
    "Sphi = torch.randn((7), requires_grad=True)\n",
    "St = torch.randn((7), requires_grad=True) # varience of z\n",
    "\n",
    "def q(x):\n",
    "    return phi @ x + Sphi @ torch.normal(torch.zeros(7), torch.ones(7))"
   ]
  },
  {
   "cell_type": "code",
   "execution_count": 4,
   "metadata": {},
   "outputs": [],
   "source": [
    "from scipy import stats as sps"
   ]
  },
  {
   "cell_type": "code",
   "execution_count": 4,
   "metadata": {},
   "outputs": [],
   "source": [
    "a, b = np.meshgrid(np.arange(7), np.arange(7))\n",
    "G_real = Tensor(sps.ortho_group.rvs(7))  # this is a normal matrix (preserve norm)\n",
    "B_real = Tensor(np.concatenate([np.diag(np.ones(3)), np.diag(np.ones(3)), np.array([[1, 0, 0]])]))  \n",
    "F_real = Tensor(np.concatenate([np.identity(7), np.zeros((4, 7))]))"
   ]
  },
  {
   "cell_type": "code",
   "execution_count": 5,
   "metadata": {},
   "outputs": [],
   "source": [
    "def generate_sequence(length):\n",
    "    z = [(1./7.)*torch.randn((7))]\n",
    "    x = [Fk(F_real, z[-1])]\n",
    "    \n",
    "    u = [-(1./7.)*torch.sign(torch.sum(G_real @ z[-1])) * torch.ones(3)] \n",
    "    \n",
    "    for _ in range(length - 1):\n",
    "        z.append(Ga(G_real, B_real, z[-1], u[-1]))\n",
    "        x.append(Fk(F_real, z[-1]))\n",
    "\n",
    "        # this ensures norm of z will not grow thanks to actions. Now we can generate as long a sequence as needed\n",
    "        u.append(-(1./7.)*torch.sign(torch.sum(G_real @ z[-1])) * torch.ones(3)) \n",
    "                    \n",
    "    return z, x, u"
   ]
  },
  {
   "cell_type": "code",
   "execution_count": 6,
   "metadata": {},
   "outputs": [],
   "source": [
    "z, x, u = generate_sequence(10000)"
   ]
  },
  {
   "cell_type": "code",
   "execution_count": 2,
   "metadata": {},
   "outputs": [],
   "source": [
    "import matplotlib.pyplot as plt\n",
    "%matplotlib inline"
   ]
  },
  {
   "cell_type": "code",
   "execution_count": 8,
   "metadata": {},
   "outputs": [
    {
     "data": {
      "text/plain": [
       "[<matplotlib.lines.Line2D at 0x7f9720cc2390>]"
      ]
     },
     "execution_count": 8,
     "metadata": {},
     "output_type": "execute_result"
    },
    {
     "data": {
      "image/png": "[encoded data removed]",
      "text/plain": [
       "<Figure size 432x288 with 1 Axes>"
      ]
     },
     "metadata": {},
     "output_type": "display_data"
    }
   ],
   "source": [
    "plt.plot([torch.norm(zi) for zi in z])"
   ]
  },
  {
   "cell_type": "code",
   "execution_count": 9,
   "metadata": {},
   "outputs": [
    {
     "data": {
      "application/vnd.jupyter.widget-view+json": {
       "model_id": "6bc5374029f042b89d38035209acde30",
       "version_major": 2,
       "version_minor": 0
      },
      "text/plain": [
       "HBox(children=(IntProgress(value=0, max=5000), HTML(value='')))"
      ]
     },
     "metadata": {},
     "output_type": "display_data"
    },
    {
     "name": "stdout",
     "output_type": "stream",
     "text": [
      "\n"
     ]
    }
   ],
   "source": [
    "from tqdm import tqdm_notebook\n",
    "\n",
    "T = 29\n",
    "delta = 1\n",
    "D = 7\n",
    "\n",
    "optimizer = torch.optim.Adam([Gt, Bt, Ft, St, phi, Sphi], lr=1e-3)\n",
    "l = []\n",
    "error = []\n",
    "\n",
    "for _ in tqdm_notebook(range(5000)):\n",
    "    \n",
    "    rand_i = np.random.randint(0, len(x) - T)\n",
    "    \n",
    "    batch_x = x[rand_i:rand_i + T] \n",
    "    batch_z = z[rand_i:rand_i + T] \n",
    "    batch_u = u[rand_i:rand_i + T] \n",
    "\n",
    "    SphiPos = torch.exp(Sphi)\n",
    "    StPos = torch.exp(St)\n",
    "\n",
    "    logp = 0\n",
    "    # logp += (T-1) * D * torch.log(delta) * torch.prod(St)\n",
    "    logp -= T * torch.sum(torch.log(SphiPos))   # sum_t torch.log(torch.prod(Sphi))\n",
    "    logp += torch.prod(SphiPos)  # trace of diag\n",
    "    logp += (T - 1) * torch.prod(SphiPos / StPos)  # sum^T_t=2 trace(diag(St)^-1 @ diag(Sphi))\n",
    "    logp += torch.norm(phi @ batch_x[0])\n",
    "\n",
    "    # shape [28, 7]\n",
    "    mu_q_t_1T = (phi @ torch.stack(batch_x[1:]).permute(1, 0)).permute(1, 0)  # expectation of q_t for every t in [1, T]\n",
    "\n",
    "    sample_z = ((phi @ torch.stack(batch_x).permute(1, 0)) + \\\n",
    "     (torch.normal(torch.zeros((50, T, 7)), \n",
    "                   torch.ones((50, T, 7))) * SphiPos).permute(0, 2, 1))\n",
    "\n",
    "    # shape [50, 28, 7], random\n",
    "    Gt_t_2T = (sample_z[:, :, :-1].permute(0, 2, 1) @ Gt) + (torch.stack(batch_u[:-1]) @ Bt.permute(1, 0))\n",
    "\n",
    "    # 0.02 = (1/50) - averaging over random sample\n",
    "    logp += 0.02*torch.sum((Gt_t_2T - mu_q_t_1T) * StPos * (Gt_t_2T - mu_q_t_1T))\n",
    "    logp *= 0.5\n",
    "\n",
    "    loss = 0.02*torch.sum(torch.norm((sample_z.permute(0, 2, 1) @ Ft.permute(1, 0)) - torch.stack(batch_x), dim=2))\n",
    "    loss += logp\n",
    "    \n",
    "    loss.backward()\n",
    "    optimizer.step()\n",
    "    optimizer.zero_grad()\n",
    "    \n",
    "    l.append(loss.data)\n",
    "    error.append(np.sum([torch.norm(Ft @ z[0] - x[0]) for zi, xi in zip(z[:100], x[:100])]))"
   ]
  },
  {
   "cell_type": "code",
   "execution_count": 10,
   "metadata": {},
   "outputs": [
    {
     "data": {
      "text/plain": [
       "[<matplotlib.lines.Line2D at 0x7f9720d933c8>]"
      ]
     },
     "execution_count": 10,
     "metadata": {},
     "output_type": "execute_result"
    },
    {
     "data": {
      "image/png": "[encoded data removed]",
      "text/plain": [
       "<Figure size 432x288 with 1 Axes>"
      ]
     },
     "metadata": {},
     "output_type": "display_data"
    }
   ],
   "source": [
    "plt.plot(l)"
   ]
  },
  {
   "cell_type": "code",
   "execution_count": 11,
   "metadata": {},
   "outputs": [
    {
     "data": {
      "text/plain": [
       "tensor(170.6324, grad_fn=<ThAddBackward>)"
      ]
     },
     "execution_count": 11,
     "metadata": {},
     "output_type": "execute_result"
    }
   ],
   "source": [
    "error[0]"
   ]
  },
  {
   "cell_type": "code",
   "execution_count": 12,
   "metadata": {},
   "outputs": [
    {
     "data": {
      "text/plain": [
       "[<matplotlib.lines.Line2D at 0x7f971c052470>]"
      ]
     },
     "execution_count": 12,
     "metadata": {},
     "output_type": "execute_result"
    },
    {
     "data": {
      "image/png": "[encoded data removed]",
      "text/plain": [
       "<Figure size 432x288 with 1 Axes>"
      ]
     },
     "metadata": {},
     "output_type": "display_data"
    }
   ],
   "source": [
    "plt.plot(error)"
   ]
  },
  {
   "cell_type": "code",
   "execution_count": null,
   "metadata": {},
   "outputs": [],
   "source": []
  },
  {
   "cell_type": "code",
   "execution_count": 27,
   "metadata": {},
   "outputs": [],
   "source": [
    "D = 784\n",
    "dim = D\n",
    "z_dim = 100\n",
    "\n",
    "Sphi = torch.zeros((z_dim), requires_grad=True)\n",
    "St = torch.zeros((z_dim), requires_grad=True) # varience of z\n",
    "\n",
    "Fk = torch.nn.Sequential(\n",
    "    torch.nn.Linear(z_dim, dim),\n",
    "    torch.nn.ReLU(),\n",
    "    torch.nn.Linear(dim, dim),\n",
    "    torch.nn.ReLU(),\n",
    "    torch.nn.Linear(dim, dim),\n",
    "    torch.nn.ReLU(),\n",
    "    torch.nn.Linear(dim, dim),\n",
    "    torch.nn.Sigmoid()\n",
    ")\n",
    "\n",
    "Gk = torch.nn.Sequential(\n",
    "    torch.nn.Linear(z_dim, z_dim),\n",
    "    torch.nn.ReLU(),\n",
    "    torch.nn.Linear(z_dim, z_dim),\n",
    "    torch.nn.ReLU(),\n",
    "    torch.nn.Linear(z_dim, z_dim),\n",
    "    torch.nn.ReLU(),\n",
    "    torch.nn.Linear(z_dim, z_dim)\n",
    ")\n",
    "\n",
    "Q = torch.nn.Sequential(\n",
    "    torch.nn.Linear(dim, dim),\n",
    "    torch.nn.ReLU(),\n",
    "    torch.nn.Linear(dim, dim),\n",
    "    torch.nn.ReLU(),\n",
    "    torch.nn.Linear(dim, dim),\n",
    "    torch.nn.ReLU(),\n",
    "    torch.nn.Linear(dim, z_dim)\n",
    ")"
   ]
  },
  {
   "cell_type": "code",
   "execution_count": 6,
   "metadata": {},
   "outputs": [],
   "source": [
    "from itertools import chain"
   ]
  },
  {
   "cell_type": "code",
   "execution_count": 7,
   "metadata": {},
   "outputs": [],
   "source": [
    "X_train = np.load('train.npy')"
   ]
  },
  {
   "cell_type": "code",
   "execution_count": 8,
   "metadata": {},
   "outputs": [],
   "source": [
    "X_train = X_train.reshape(60000, 5, -1)"
   ]
  },
  {
   "cell_type": "code",
   "execution_count": 9,
   "metadata": {},
   "outputs": [],
   "source": [
    "X_train = Tensor(X_train.astype(int))"
   ]
  },
  {
   "cell_type": "code",
   "execution_count": null,
   "metadata": {},
   "outputs": [
    {
     "data": {
      "application/vnd.jupyter.widget-view+json": {
       "model_id": "c3744175a9464fcb94bbba0ca36d1751",
       "version_major": 2,
       "version_minor": 0
      },
      "text/plain": [
       "HBox(children=(IntProgress(value=0, max=10000), HTML(value='')))"
      ]
     },
     "metadata": {},
     "output_type": "display_data"
    }
   ],
   "source": [
    "from tqdm import tqdm_notebook\n",
    "\n",
    "T = 5\n",
    "delta = 1\n",
    "\n",
    "optimizer = torch.optim.Adam(chain(Gk.parameters(), Fk.parameters(), Q.parameters(), [Sphi, St]), lr=1e-3)\n",
    "l = []\n",
    "\n",
    "for _ in tqdm_notebook(range(10000)):\n",
    "    \n",
    "    rand_i = np.random.randint(0, len(X_train))\n",
    "    \n",
    "    batch_x = X_train[rand_i] \n",
    "\n",
    "    SphiPos = torch.exp(Sphi)\n",
    "    StPos = torch.exp(St)\n",
    "\n",
    "    logp = 0\n",
    "    # logp += (T-1) * D * torch.log(delta) * torch.prod(St)\n",
    "    logp -= T * torch.sum(torch.log(SphiPos))   # sum_t torch.log(torch.prod(Sphi))\n",
    "    logp += torch.prod(SphiPos)  # trace of diag\n",
    "    logp += (T - 1) * torch.prod(SphiPos / StPos)  # sum^T_t=2 trace(diag(St)^-1 @ diag(Sphi))\n",
    "    \n",
    "    mu_q_t = Q(batch_x)\n",
    "    \n",
    "    logp += mu_q_t[0] @ mu_q_t[0] \n",
    "    \n",
    "    # shape [50, 5, 784], random\n",
    "    sample_z = mu_q_t + (SphiPos * torch.normal(torch.zeros((50, 5, z_dim)), \n",
    "                                                torch.ones((50, 5, z_dim))))\n",
    "    # shape [50, 4, 784], random\n",
    "    Gt_t_2T = Gk(sample_z[:, :4, :])\n",
    "\n",
    "    # 0.02 = (1/50) - averaging over random sample\n",
    "    logp += 0.02*torch.sum(((Gt_t_2T - mu_q_t[:4, :]) * (Gt_t_2T - mu_q_t[:4, :]) / StPos))\n",
    "    logp *= 0.5\n",
    "\n",
    "    p = Fk(sample_z)\n",
    "    loss = torch.mean(Tensor([torch.nn.functional.binary_cross_entropy(input=pi.flatten(), \n",
    "                                                                       target=batch_x.flatten(),\n",
    "                                                                       reduction='sum') for pi in p]))\n",
    "    loss += logp\n",
    "    \n",
    "    loss.backward()\n",
    "    optimizer.step()\n",
    "    optimizer.zero_grad()\n",
    "    \n",
    "    l.append(loss.data)"
   ]
  },
  {
   "cell_type": "code",
   "execution_count": 167,
   "metadata": {},
   "outputs": [
    {
     "data": {
      "text/plain": [
       "tensor(-0.8274, grad_fn=<ThAddBackward>)"
      ]
     },
     "execution_count": 167,
     "metadata": {},
     "output_type": "execute_result"
    }
   ],
   "source": [
    "loss"
   ]
  },
  {
   "cell_type": "code",
   "execution_count": 11,
   "metadata": {},
   "outputs": [
    {
     "data": {
      "text/plain": [
       "[<matplotlib.lines.Line2D at 0x7fb759305b38>]"
      ]
     },
     "execution_count": 11,
     "metadata": {},
     "output_type": "execute_result"
    },
    {
     "data": {
      "image/png": "[encoded data removed]",
      "text/plain": [
       "<Figure size 432x288 with 1 Axes>"
      ]
     },
     "metadata": {},
     "output_type": "display_data"
    }
   ],
   "source": [
    "plt.plot(l)"
   ]
  },
  {
   "cell_type": "code",
   "execution_count": 29,
   "metadata": {},
   "outputs": [],
   "source": [
    "mu_q_t_1T = (phi @ torch.stack(batch_x[1:]).permute(1, 0)).permute(1, 0)  # expectation of q_t for every t in [1, T]\n",
    "\n",
    "    sample_z = ((phi @ torch.stack(batch_x).permute(1, 0)) + \\\n",
    "     (torch.normal(torch.zeros((50, T, 7)), \n",
    "                   torch.ones((50, T, 7))) * SphiPos).permute(0, 2, 1))"
   ]
  },
  {
   "cell_type": "code",
   "execution_count": 49,
   "metadata": {},
   "outputs": [],
   "source": [
    "mu_q_t = Q(X_train[0])\n",
    "# mu_G_t = Gk(X_train[0][:-1])"
   ]
  },
  {
   "cell_type": "code",
   "execution_count": 36,
   "metadata": {},
   "outputs": [
    {
     "data": {
      "text/plain": [
       "tensor([[-0.0130, -0.0204,  0.0388,  ...,  0.0429, -0.0312, -0.0287],\n",
       "        [-0.0218, -0.0241,  0.0104,  ...,  0.0316, -0.0418, -0.0206],\n",
       "        [-0.0119, -0.0393,  0.0104,  ...,  0.0243, -0.0384, -0.0104],\n",
       "        [-0.0126,  0.0036,  0.0284,  ...,  0.0302, -0.0361, -0.0286]],\n",
       "       grad_fn=<ThAddmmBackward>)"
      ]
     },
     "execution_count": 36,
     "metadata": {},
     "output_type": "execute_result"
    }
   ],
   "source": [
    "sample_z = ((phi @ torch.stack(batch_x).permute(1, 0)) + \\\n",
    "     (torch.normal(torch.zeros((50, T, 7)), \n",
    "                   torch.ones((50, T, 7))) * SphiPos).permute(0, 2, 1))"
   ]
  },
  {
   "cell_type": "code",
   "execution_count": 52,
   "metadata": {},
   "outputs": [],
   "source": [
    "sample_z = (mu_q_t + (SphiPos * torch.normal(torch.zeros((50, 5, D)), \n",
    "                                            torch.ones((50, 5, D)))))"
   ]
  },
  {
   "cell_type": "code",
   "execution_count": 61,
   "metadata": {},
   "outputs": [],
   "source": [
    "Gt_t_2T = Gk(sample_z[:, :4, :])"
   ]
  },
  {
   "cell_type": "code",
   "execution_count": 75,
   "metadata": {},
   "outputs": [
    {
     "ename": "RuntimeError",
     "evalue": "invalid argument 2: wrong matrix size, batch1: 5x784, batch2: 5x784 at /opt/conda/conda-bld/pytorch-cpu_1532576596369/work/aten/src/TH/generic/THTensorMath.cpp:2312",
     "output_type": "error",
     "traceback": [
      "\u001b[0;31m---------------------------------------------------------------------------\u001b[0m",
      "\u001b[0;31mRuntimeError\u001b[0m                              Traceback (most recent call last)",
      "\u001b[0;32m<ipython-input-75-6dbcc7384fa2>\u001b[0m in \u001b[0;36m<module>\u001b[0;34m()\u001b[0m\n\u001b[0;32m----> 1\u001b[0;31m \u001b[0;34m(\u001b[0m\u001b[0mFk\u001b[0m\u001b[0;34m(\u001b[0m\u001b[0msample_z\u001b[0m\u001b[0;34m)\u001b[0m \u001b[0;34m-\u001b[0m \u001b[0mX_train\u001b[0m\u001b[0;34m[\u001b[0m\u001b[0;36m0\u001b[0m\u001b[0;34m]\u001b[0m\u001b[0;34m)\u001b[0m \u001b[0;34m@\u001b[0m \u001b[0;34m(\u001b[0m\u001b[0mFk\u001b[0m\u001b[0;34m(\u001b[0m\u001b[0msample_z\u001b[0m\u001b[0;34m)\u001b[0m \u001b[0;34m-\u001b[0m \u001b[0mX_train\u001b[0m\u001b[0;34m[\u001b[0m\u001b[0;36m0\u001b[0m\u001b[0;34m]\u001b[0m\u001b[0;34m)\u001b[0m\u001b[0;34m\u001b[0m\u001b[0m\n\u001b[0m",
      "\u001b[0;31mRuntimeError\u001b[0m: invalid argument 2: wrong matrix size, batch1: 5x784, batch2: 5x784 at /opt/conda/conda-bld/pytorch-cpu_1532576596369/work/aten/src/TH/generic/THTensorMath.cpp:2312"
     ]
    }
   ],
   "source": [
    "(Fk(sample_z) - X_train[0]) @ (Fk(sample_z) - X_train[0])"
   ]
  },
  {
   "cell_type": "code",
   "execution_count": 158,
   "metadata": {},
   "outputs": [
    {
     "data": {
      "text/plain": [
       "tensor([[0.4924, 0.5099, 0.5081,  ..., 0.4955, 0.5032, 0.5144],\n",
       "        [0.4909, 0.5088, 0.5088,  ..., 0.4947, 0.5034, 0.5153],\n",
       "        [0.4913, 0.5093, 0.5078,  ..., 0.4951, 0.5036, 0.5152],\n",
       "        [0.4906, 0.5091, 0.5087,  ..., 0.4950, 0.5036, 0.5147],\n",
       "        [0.4937, 0.5096, 0.5102,  ..., 0.4958, 0.5028, 0.5165]],\n",
       "       grad_fn=<MeanBackward0>)"
      ]
     },
     "execution_count": 158,
     "metadata": {},
     "output_type": "execute_result"
    }
   ],
   "source": []
  },
  {
   "cell_type": "code",
   "execution_count": 15,
   "metadata": {},
   "outputs": [
    {
     "data": {
      "text/plain": [
       "<matplotlib.image.AxesImage at 0x7fb75912ef60>"
      ]
     },
     "execution_count": 15,
     "metadata": {},
     "output_type": "execute_result"
    },
    {
     "data": {
      "image/png": "[encoded data removed]",
      "text/plain": [
       "<Figure size 432x288 with 1 Axes>"
      ]
     },
     "metadata": {},
     "output_type": "display_data"
    }
   ],
   "source": [
    "plt.imshow(Fk(Q(X_train[10]))[0].detach().reshape(28, 28))"
   ]
  },
  {
   "cell_type": "code",
   "execution_count": 16,
   "metadata": {},
   "outputs": [
    {
     "data": {
      "text/plain": [
       "tensor([[ 5.0173e-05, -1.4149e-04, -1.6212e-04,  ...,  1.6484e-04,\n",
       "          7.8751e-05,  3.2018e-05],\n",
       "        [ 2.7299e-05, -2.4293e-04, -7.5950e-05,  ...,  1.3742e-05,\n",
       "          1.5753e-04,  1.9889e-04],\n",
       "        [ 5.1674e-05, -2.5303e-04, -1.3542e-04,  ...,  2.2894e-04,\n",
       "          1.7734e-04,  1.8600e-04],\n",
       "        [-7.9956e-05, -3.0308e-04,  3.5489e-05,  ...,  4.5412e-05,\n",
       "         -3.7789e-05, -1.3118e-04],\n",
       "        [ 1.1431e-04, -1.4178e-04,  2.5264e-05,  ...,  9.8120e-05,\n",
       "          5.1914e-05, -1.4777e-06]], grad_fn=<ThAddmmBackward>)"
      ]
     },
     "execution_count": 16,
     "metadata": {},
     "output_type": "execute_result"
    }
   ],
   "source": [
    "Q(X_train[10])"
   ]
  },
  {
   "cell_type": "code",
   "execution_count": 22,
   "metadata": {},
   "outputs": [
    {
     "ename": "TypeError",
     "evalue": "parameters() takes 1 positional argument but 2 were given",
     "output_type": "error",
     "traceback": [
      "\u001b[0;31m---------------------------------------------------------------------------\u001b[0m",
      "\u001b[0;31mTypeError\u001b[0m                                 Traceback (most recent call last)",
      "\u001b[0;32m<ipython-input-22-a56e5c2d8af5>\u001b[0m in \u001b[0;36m<module>\u001b[0;34m()\u001b[0m\n\u001b[0;32m----> 1\u001b[0;31m \u001b[0mQ\u001b[0m\u001b[0;34m.\u001b[0m\u001b[0mparameters\u001b[0m\u001b[0;34m(\u001b[0m\u001b[0;36m0\u001b[0m\u001b[0;34m)\u001b[0m\u001b[0;34m\u001b[0m\u001b[0m\n\u001b[0m",
      "\u001b[0;31mTypeError\u001b[0m: parameters() takes 1 positional argument but 2 were given"
     ]
    }
   ],
   "source": [
    "Q"
   ]
  },
  {
   "cell_type": "code",
   "execution_count": null,
   "metadata": {},
   "outputs": [],
   "source": []
  }
 ],
 "metadata": {
  "kernelspec": {
   "display_name": "Python 3",
   "language": "python",
   "name": "python3"
  },
  "language_info": {
   "codemirror_mode": {
    "name": "ipython",
    "version": 3
   },
   "file_extension": ".py",
   "mimetype": "text/x-python",
   "name": "python",
   "nbconvert_exporter": "python",
   "pygments_lexer": "ipython3",
   "version": "3.6.5"
  }
 },
 "nbformat": 4,
 "nbformat_minor": 2
}
