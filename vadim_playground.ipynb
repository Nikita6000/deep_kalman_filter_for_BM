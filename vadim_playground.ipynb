{
 "cells": [
  {
   "cell_type": "markdown",
   "metadata": {},
   "source": [
    "$$\n",
    "z_1 \\sim N(µ_0; \\Sigma_0)\n",
    "$$\n",
    "$$\n",
    "z_t \\sim N(G_{\\alpha}(z_{t−1},u_{t−1}),S_{\\beta}(z_{t−1},u_{t−1})) \n",
    "$$\n",
    "$$\n",
    "x_t ∼ Π(F_κ(z_t)).\n",
    "$$"
   ]
  },
  {
   "cell_type": "code",
   "execution_count": 141,
   "metadata": {},
   "outputs": [],
   "source": [
    "import numpy as np\n",
    "import torch\n",
    "from torch import Tensor\n",
    "from torch import nn"
   ]
  },
  {
   "cell_type": "code",
   "execution_count": 2,
   "metadata": {},
   "outputs": [
    {
     "name": "stderr",
     "output_type": "stream",
     "text": [
      "/home/vadim/anaconda3/lib/python3.6/importlib/_bootstrap.py:219: RuntimeWarning: numpy.dtype size changed, may indicate binary incompatibility. Expected 96, got 88\n",
      "  return f(*args, **kwds)\n",
      "/home/vadim/anaconda3/lib/python3.6/importlib/_bootstrap.py:219: RuntimeWarning: numpy.dtype size changed, may indicate binary incompatibility. Expected 96, got 88\n",
      "  return f(*args, **kwds)\n"
     ]
    }
   ],
   "source": [
    "import healing_mnist\n",
    "\n",
    "hmnist = healing_mnist.HealingMNIST()"
   ]
  },
  {
   "cell_type": "code",
   "execution_count": 3,
   "metadata": {},
   "outputs": [],
   "source": [
    "def encode_rotations(rotations, dim=30):\n",
    "    return np.stack([np.sin(np.deg2rad(rotations) * (i + 1)) for i in range(dim)], axis=2)"
   ]
  },
  {
   "cell_type": "code",
   "execution_count": 4,
   "metadata": {},
   "outputs": [],
   "source": [
    "u_dim = 30\n",
    "X_train = hmnist.train_images.reshape(hmnist.train_images.shape[0], hmnist.train_images.shape[1], 28 * 28)\n",
    "u_train = encode_rotations(hmnist.train_rotations)"
   ]
  },
  {
   "cell_type": "code",
   "execution_count": 151,
   "metadata": {},
   "outputs": [],
   "source": [
    "D = 784\n",
    "dim = D\n",
    "z_dim = 200\n",
    "\n",
    "Sphi = torch.zeros((z_dim), requires_grad=True)\n",
    "St = torch.zeros((z_dim), requires_grad=True) # varience of z\n",
    "\n",
    "Fk = torch.nn.Sequential(\n",
    "    torch.nn.Linear(200, 300),\n",
    "    torch.nn.Tanh(),\n",
    "    torch.nn.Linear(300, 400),\n",
    "    torch.nn.Tanh(),\n",
    "    torch.nn.Linear(400, 500),\n",
    "    torch.nn.Tanh(),\n",
    "    torch.nn.Linear(500, 784),\n",
    "    torch.nn.Sigmoid()\n",
    ")\n",
    "\n",
    "Gk = torch.nn.GRUCell(u_dim, z_dim)\n",
    "\n",
    "Q = torch.nn.Sequential(\n",
    "    torch.nn.Linear(784, 500),\n",
    "    torch.nn.Tanh(),\n",
    "    torch.nn.Linear(500, 400),\n",
    "    torch.nn.Tanh(),\n",
    "    torch.nn.Linear(400, 300),\n",
    "    torch.nn.Tanh(),\n",
    "    torch.nn.Linear(300, 200),\n",
    "    torch.nn.Sigmoid()\n",
    ")"
   ]
  },
  {
   "cell_type": "code",
   "execution_count": 134,
   "metadata": {},
   "outputs": [],
   "source": [
    "from itertools import chain"
   ]
  },
  {
   "cell_type": "code",
   "execution_count": 152,
   "metadata": {},
   "outputs": [
    {
     "data": {
      "application/vnd.jupyter.widget-view+json": {
       "model_id": "97541ed713944c2f8d3018741a107a8d",
       "version_major": 2,
       "version_minor": 0
      },
      "text/html": [
       "<p>Failed to display Jupyter Widget of type <code>HBox</code>.</p>\n",
       "<p>\n",
       "  If you're reading this message in the Jupyter Notebook or JupyterLab Notebook, it may mean\n",
       "  that the widgets JavaScript is still loading. If this message persists, it\n",
       "  likely means that the widgets JavaScript library is either not installed or\n",
       "  not enabled. See the <a href=\"https://ipywidgets.readthedocs.io/en/stable/user_install.html\">Jupyter\n",
       "  Widgets Documentation</a> for setup instructions.\n",
       "</p>\n",
       "<p>\n",
       "  If you're reading this message in another frontend (for example, a static\n",
       "  rendering on GitHub or <a href=\"https://nbviewer.jupyter.org/\">NBViewer</a>),\n",
       "  it may mean that your frontend doesn't currently support widgets.\n",
       "</p>\n"
      ],
      "text/plain": [
       "HBox(children=(IntProgress(value=0, max=10000), HTML(value='')))"
      ]
     },
     "metadata": {},
     "output_type": "display_data"
    },
    {
     "ename": "KeyboardInterrupt",
     "evalue": "",
     "output_type": "error",
     "traceback": [
      "\u001b[0;31m---------------------------------------------------------------------------\u001b[0m",
      "\u001b[0;31mKeyboardInterrupt\u001b[0m                         Traceback (most recent call last)",
      "\u001b[0;32m<ipython-input-152-a9187c35b8b4>\u001b[0m in \u001b[0;36m<module>\u001b[0;34m()\u001b[0m\n\u001b[1;32m     43\u001b[0m     loss = torch.mean(Tensor([torch.nn.functional.binary_cross_entropy(input=pi.flatten(), \n\u001b[1;32m     44\u001b[0m                                                                        \u001b[0mtarget\u001b[0m\u001b[0;34m=\u001b[0m\u001b[0mx\u001b[0m\u001b[0;34m.\u001b[0m\u001b[0mflatten\u001b[0m\u001b[0;34m(\u001b[0m\u001b[0;34m)\u001b[0m\u001b[0;34m,\u001b[0m\u001b[0;34m\u001b[0m\u001b[0m\n\u001b[0;32m---> 45\u001b[0;31m                                                                        reduction='sum') for x, p in zip(batch_x, batch_p) for pi in p ]))\n\u001b[0m\u001b[1;32m     46\u001b[0m     \u001b[0mloss\u001b[0m \u001b[0;34m+=\u001b[0m \u001b[0mlogp\u001b[0m\u001b[0;34m.\u001b[0m\u001b[0mmean\u001b[0m\u001b[0;34m(\u001b[0m\u001b[0;34m)\u001b[0m\u001b[0;34m\u001b[0m\u001b[0m\n\u001b[1;32m     47\u001b[0m \u001b[0;34m\u001b[0m\u001b[0m\n",
      "\u001b[0;32m<ipython-input-152-a9187c35b8b4>\u001b[0m in \u001b[0;36m<listcomp>\u001b[0;34m(.0)\u001b[0m\n\u001b[1;32m     43\u001b[0m     loss = torch.mean(Tensor([torch.nn.functional.binary_cross_entropy(input=pi.flatten(), \n\u001b[1;32m     44\u001b[0m                                                                        \u001b[0mtarget\u001b[0m\u001b[0;34m=\u001b[0m\u001b[0mx\u001b[0m\u001b[0;34m.\u001b[0m\u001b[0mflatten\u001b[0m\u001b[0;34m(\u001b[0m\u001b[0;34m)\u001b[0m\u001b[0;34m,\u001b[0m\u001b[0;34m\u001b[0m\u001b[0m\n\u001b[0;32m---> 45\u001b[0;31m                                                                        reduction='sum') for x, p in zip(batch_x, batch_p) for pi in p ]))\n\u001b[0m\u001b[1;32m     46\u001b[0m     \u001b[0mloss\u001b[0m \u001b[0;34m+=\u001b[0m \u001b[0mlogp\u001b[0m\u001b[0;34m.\u001b[0m\u001b[0mmean\u001b[0m\u001b[0;34m(\u001b[0m\u001b[0;34m)\u001b[0m\u001b[0;34m\u001b[0m\u001b[0m\n\u001b[1;32m     47\u001b[0m \u001b[0;34m\u001b[0m\u001b[0m\n",
      "\u001b[0;32m~/anaconda3/lib/python3.6/site-packages/torch/nn/functional.py\u001b[0m in \u001b[0;36mbinary_cross_entropy\u001b[0;34m(input, target, weight, size_average, reduce, reduction)\u001b[0m\n\u001b[1;32m   1601\u001b[0m         \u001b[0mweight\u001b[0m \u001b[0;34m=\u001b[0m \u001b[0mweight\u001b[0m\u001b[0;34m.\u001b[0m\u001b[0mexpand\u001b[0m\u001b[0;34m(\u001b[0m\u001b[0mnew_size\u001b[0m\u001b[0;34m)\u001b[0m\u001b[0;34m\u001b[0m\u001b[0m\n\u001b[1;32m   1602\u001b[0m \u001b[0;34m\u001b[0m\u001b[0m\n\u001b[0;32m-> 1603\u001b[0;31m     \u001b[0;32mreturn\u001b[0m \u001b[0mtorch\u001b[0m\u001b[0;34m.\u001b[0m\u001b[0m_C\u001b[0m\u001b[0;34m.\u001b[0m\u001b[0m_nn\u001b[0m\u001b[0;34m.\u001b[0m\u001b[0mbinary_cross_entropy\u001b[0m\u001b[0;34m(\u001b[0m\u001b[0minput\u001b[0m\u001b[0;34m,\u001b[0m \u001b[0mtarget\u001b[0m\u001b[0;34m,\u001b[0m \u001b[0mweight\u001b[0m\u001b[0;34m,\u001b[0m \u001b[0mreduction\u001b[0m\u001b[0;34m)\u001b[0m\u001b[0;34m\u001b[0m\u001b[0m\n\u001b[0m\u001b[1;32m   1604\u001b[0m \u001b[0;34m\u001b[0m\u001b[0m\n\u001b[1;32m   1605\u001b[0m \u001b[0;34m\u001b[0m\u001b[0m\n",
      "\u001b[0;31mKeyboardInterrupt\u001b[0m: "
     ]
    }
   ],
   "source": [
    "from tqdm import tqdm_notebook\n",
    "\n",
    "T = 5\n",
    "delta = 1\n",
    "batch_size=42\n",
    "\n",
    "optimizer = torch.optim.Adam(chain(Gk.parameters(), Fk.parameters(), Q.parameters(), [Sphi, St]), lr=1e-3)\n",
    "l = []\n",
    "\n",
    "for _ in tqdm_notebook(range(10000)):\n",
    "    \n",
    "    rand_i = np.random.permutation(len(X_train))[:batch_size]\n",
    "    \n",
    "    batch_x = Tensor(X_train[rand_i].astype(int))\n",
    "    batch_u = Tensor(u_train[rand_i])\n",
    "\n",
    "    SphiPos = torch.exp(Sphi)\n",
    "    StPos = torch.exp(St)\n",
    "\n",
    "    logp = torch.zeros(batch_size)\n",
    "    # logp += (T-1) * D * torch.log(delta) * torch.prod(St)\n",
    "    logp -= T * torch.sum(torch.log(SphiPos))   # sum_t torch.log(torch.prod(Sphi))\n",
    "    logp += torch.prod(SphiPos)  # trace of diag\n",
    "    logp += (T - 1) * torch.prod(SphiPos / StPos)  # sum^T_t=2 trace(diag(St)^-1 @ diag(Sphi))\n",
    "    \n",
    "    mu_q_t = Q(batch_x)\n",
    "    \n",
    "    logp += torch.bmm(mu_q_t[:,0].unsqueeze(1), mu_q_t[:,0].unsqueeze(2))[:,0,0]\n",
    "    \n",
    "    # shape [batch_size, 50, 5, 784], random\n",
    "    sample_z = mu_q_t.unsqueeze(1) + (SphiPos * torch.normal(torch.zeros((batch_size, 50, 5, z_dim)), \n",
    "                                                torch.ones((batch_size, 50, 5, z_dim))))\n",
    "    # shape [batch_size, 50, 4, 784], random\n",
    "    Gt_t_2T = Gk(batch_u[:,1:,:].reshape(-1, u_dim).repeat(50, 1), \n",
    "                 sample_z[:,:, :4, :].reshape(-1, z_dim))\n",
    "    Gt_t_2T = Gt_t_2T.reshape(batch_size, 50, 4, -1)\n",
    "\n",
    "    # 0.02 = (1/50) - averaging over random sample\n",
    "    logp += 0.02*torch.sum(((Gt_t_2T - mu_q_t[:,:4, :].unsqueeze(1)) * (Gt_t_2T - mu_q_t[:,:4, :].unsqueeze(1)) / StPos))\n",
    "    logp *= 0.5\n",
    "\n",
    "    batch_p = Fk(sample_z)\n",
    "    loss = torch.mean(Tensor([torch.nn.functional.binary_cross_entropy(input=pi.flatten(), \n",
    "                                                                       target=x.flatten(),\n",
    "                                                                       reduction='sum') for x, p in zip(batch_x, batch_p) for pi in p ]))\n",
    "    loss += logp.mean()\n",
    "    \n",
    "    loss.backward()\n",
    "    optimizer.step()\n",
    "    optimizer.zero_grad()\n",
    "    \n",
    "    l.append(loss.data)"
   ]
  },
  {
   "cell_type": "code",
   "execution_count": 153,
   "metadata": {},
   "outputs": [
    {
     "data": {
      "text/plain": [
       "[<matplotlib.lines.Line2D at 0x7f88183b4e48>]"
      ]
     },
     "execution_count": 153,
     "metadata": {},
     "output_type": "execute_result"
    },
    {
     "data": {
      "image/png": "[encoded data removed]",
      "text/plain": [
       "<matplotlib.figure.Figure at 0x7f881d284828>"
      ]
     },
     "metadata": {},
     "output_type": "display_data"
    }
   ],
   "source": [
    "import matplotlib.pyplot as plt\n",
    "%matplotlib inline\n",
    "\n",
    "plt.plot(l)"
   ]
  },
  {
   "cell_type": "code",
   "execution_count": 155,
   "metadata": {},
   "outputs": [
    {
     "data": {
      "text/plain": [
       "<matplotlib.image.AxesImage at 0x7f88182fc2e8>"
      ]
     },
     "execution_count": 155,
     "metadata": {},
     "output_type": "execute_result"
    },
    {
     "data": {
      "image/png": "[encoded data removed]",
      "text/plain": [
       "<matplotlib.figure.Figure at 0x7f8818372ef0>"
      ]
     },
     "metadata": {},
     "output_type": "display_data"
    }
   ],
   "source": [
    "plt.imshow(Fk(Q(Tensor(X_train[12].astype(int))))[3].detach().reshape(28, 28))"
   ]
  },
  {
   "cell_type": "code",
   "execution_count": 116,
   "metadata": {},
   "outputs": [
    {
     "data": {
      "text/plain": [
       "<matplotlib.image.AxesImage at 0x7f8827236a58>"
      ]
     },
     "execution_count": 116,
     "metadata": {},
     "output_type": "execute_result"
    },
    {
     "data": {
      "image/png": "[encoded data removed]",
      "text/plain": [
       "<matplotlib.figure.Figure at 0x7f88272ad320>"
      ]
     },
     "metadata": {},
     "output_type": "display_data"
    }
   ],
   "source": [
    "plt.imshow(X_train[423][3].reshape(28, 28))"
   ]
  },
  {
   "cell_type": "code",
   "execution_count": 104,
   "metadata": {},
   "outputs": [
    {
     "data": {
      "text/plain": [
       "(60000, 5, 784)"
      ]
     },
     "execution_count": 104,
     "metadata": {},
     "output_type": "execute_result"
    }
   ],
   "source": [
    "X_train.shape"
   ]
  }
 ],
 "metadata": {
  "kernelspec": {
   "display_name": "Python 3",
   "language": "python",
   "name": "python3"
  },
  "language_info": {
   "codemirror_mode": {
    "name": "ipython",
    "version": 3
   },
   "file_extension": ".py",
   "mimetype": "text/x-python",
   "name": "python",
   "nbconvert_exporter": "python",
   "pygments_lexer": "ipython3",
   "version": "3.6.4"
  }
 },
 "nbformat": 4,
 "nbformat_minor": 2
}
