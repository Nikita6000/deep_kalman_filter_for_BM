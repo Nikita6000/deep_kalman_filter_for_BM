{
 "cells": [
  {
   "cell_type": "code",
   "execution_count": 1,
   "metadata": {},
   "outputs": [],
   "source": [
    "import numpy as np\n",
    "import torch\n",
    "from torch import Tensor"
   ]
  },
  {
   "cell_type": "code",
   "execution_count": 2,
   "metadata": {},
   "outputs": [],
   "source": [
    "import matplotlib.pyplot as plt\n",
    "%matplotlib inline"
   ]
  },
  {
   "cell_type": "code",
   "execution_count": 3,
   "metadata": {},
   "outputs": [],
   "source": [
    "D = 784\n",
    "dim = D\n",
    "z_dim = 100\n",
    "\n",
    "Sphi = torch.zeros((z_dim), requires_grad=True)\n",
    "St = torch.zeros((z_dim), requires_grad=True) # varience of z\n",
    "\n",
    "Fk = torch.nn.Sequential(\n",
    "    torch.nn.Linear(z_dim, dim),\n",
    "    torch.nn.ReLU(),\n",
    "    torch.nn.Linear(dim, dim),\n",
    "#     torch.nn.ReLU(),\n",
    "#     torch.nn.Linear(dim, dim),\n",
    "#     torch.nn.ReLU(),\n",
    "#     torch.nn.Linear(dim, dim),\n",
    "    torch.nn.Sigmoid()\n",
    ")\n",
    "\n",
    "Q = torch.nn.Sequential(\n",
    "    torch.nn.Linear(dim, dim),\n",
    "    torch.nn.ReLU(),\n",
    "    torch.nn.Linear(dim, dim),\n",
    "    torch.nn.ReLU(),\n",
    "    torch.nn.Linear(dim, dim),\n",
    "    torch.nn.ReLU(),\n",
    "    torch.nn.Linear(dim, z_dim)\n",
    ")"
   ]
  },
  {
   "cell_type": "code",
   "execution_count": 4,
   "metadata": {},
   "outputs": [],
   "source": [
    "from itertools import chain\n",
    "from healing_mnist import HealingMNIST"
   ]
  },
  {
   "cell_type": "code",
   "execution_count": 5,
   "metadata": {},
   "outputs": [],
   "source": [
    "mnist = HealingMNIST()\n",
    "\n",
    "X_train = Tensor(mnist.train_images.reshape(60000, 5, 784).astype(int))\n",
    "U_train = Tensor(np.transpose(np.stack([np.sin((mnist.train_rotations / 180.) * np.pi * i) for i in range(25)] + [np.cos((mnist.train_rotations / 180.) * np.pi * i) for i in range(25)]), axes=[1, 2, 0]))"
   ]
  },
  {
   "cell_type": "code",
   "execution_count": 6,
   "metadata": {},
   "outputs": [],
   "source": [
    "Gk = torch.nn.GRUCell(50*5, 100*5)"
   ]
  },
  {
   "cell_type": "code",
   "execution_count": 7,
   "metadata": {},
   "outputs": [
    {
     "data": {
      "application/vnd.jupyter.widget-view+json": {
       "model_id": "2999965ab3d2400bb573d5522f9cca2b",
       "version_major": 2,
       "version_minor": 0
      },
      "text/plain": [
       "HBox(children=(IntProgress(value=0, max=1000), HTML(value='')))"
      ]
     },
     "metadata": {},
     "output_type": "display_data"
    },
    {
     "name": "stdout",
     "output_type": "stream",
     "text": [
      "\n"
     ]
    }
   ],
   "source": [
    "from tqdm import tqdm_notebook\n",
    "\n",
    "T = 5\n",
    "delta = 1\n",
    "\n",
    "optimizer = torch.optim.Adam(chain(Gk.parameters(), Fk.parameters(), Q.parameters(), [Sphi, St]), lr=1e-3)\n",
    "l = []\n",
    "\n",
    "for k in tqdm_notebook(range(1000)):\n",
    "    \n",
    "    batch_x = X_train[(k%1000)::1000] \n",
    "\n",
    "    SphiPos = torch.exp(Sphi)\n",
    "    StPos = torch.exp(St)\n",
    "\n",
    "    logp = 0\n",
    "    # logp += (T-1) * D * torch.log(delta) * torch.prod(St)\n",
    "    logp -= T * torch.sum(torch.log(SphiPos))   # sum_t torch.log(torch.prod(Sphi))\n",
    "    logp += torch.prod(SphiPos)  # trace of diag\n",
    "    logp += (T - 1) * torch.prod(SphiPos / StPos)  # sum^T_t=2 trace(diag(St)^-1 @ diag(Sphi))\n",
    "    \n",
    "    \n",
    "    mu_q_t = Q(batch_x)\n",
    "    \n",
    "    logp += torch.mean(torch.sum((mu_q_t[:, 0, :] * mu_q_t[:, 0, :]), dim=1))\n",
    "    \n",
    "    # shape [50, 5, 784], random\n",
    "    sample_z = mu_q_t + (SphiPos * torch.normal(torch.zeros((5, z_dim)), \n",
    "                                                torch.ones((5, z_dim))))\n",
    "    # shape [50, 4, 784], random\n",
    "    Gt_t_2T = Gk(U_train[:60].reshape(60, -1), Q(X_train[:60]).reshape(60, -1)).reshape(60, 5, -1)\n",
    "\n",
    "    # 0.02 = (1/50) - averaging over random sample\n",
    "    logp += (1/60.)*torch.sum(((Gt_t_2T[:, :4, :] - mu_q_t[:, 1:, :]) * (Gt_t_2T[:, :4, :] - mu_q_t[:, 1:, :]) / StPos))\n",
    "    logp *= 0.5\n",
    "\n",
    "    p = Fk(sample_z)\n",
    "    loss = logp + torch.nn.functional.binary_cross_entropy(input=p.reshape(-1, T*784), target=batch_x.reshape(-1, T*784))\n",
    "    \n",
    "    loss.backward()\n",
    "    optimizer.step()\n",
    "    optimizer.zero_grad()\n",
    "    \n",
    "    l.append(loss.data)"
   ]
  },
  {
   "cell_type": "code",
   "execution_count": 8,
   "metadata": {},
   "outputs": [
    {
     "data": {
      "text/plain": [
       "[<matplotlib.lines.Line2D at 0x7f30219f6cc0>]"
      ]
     },
     "execution_count": 8,
     "metadata": {},
     "output_type": "execute_result"
    },
    {
     "data": {
      "image/png": "[encoded data removed]",
      "text/plain": [
       "<Figure size 432x288 with 1 Axes>"
      ]
     },
     "metadata": {},
     "output_type": "display_data"
    }
   ],
   "source": [
    "plt.plot(l)\n",
    "# plt.ylim([-1.05, -0.95])"
   ]
  },
  {
   "cell_type": "code",
   "execution_count": 9,
   "metadata": {},
   "outputs": [
    {
     "data": {
      "text/plain": [
       "<matplotlib.image.AxesImage at 0x7f30219917b8>"
      ]
     },
     "execution_count": 9,
     "metadata": {},
     "output_type": "execute_result"
    },
    {
     "data": {
      "image/png": "[encoded data removed]",
      "text/plain": [
       "<Figure size 432x288 with 1 Axes>"
      ]
     },
     "metadata": {},
     "output_type": "display_data"
    }
   ],
   "source": [
    "plt.imshow(Fk(Q(X_train[7]))[0].detach().reshape(28, 28))"
   ]
  },
  {
   "cell_type": "code",
   "execution_count": null,
   "metadata": {},
   "outputs": [],
   "source": []
  },
  {
   "cell_type": "code",
   "execution_count": null,
   "metadata": {},
   "outputs": [],
   "source": []
  }
 ],
 "metadata": {
  "kernelspec": {
   "display_name": "Python 3",
   "language": "python",
   "name": "python3"
  },
  "language_info": {
   "codemirror_mode": {
    "name": "ipython",
    "version": 3
   },
   "file_extension": ".py",
   "mimetype": "text/x-python",
   "name": "python",
   "nbconvert_exporter": "python",
   "pygments_lexer": "ipython3",
   "version": "3.6.5"
  }
 },
 "nbformat": 4,
 "nbformat_minor": 2
}
