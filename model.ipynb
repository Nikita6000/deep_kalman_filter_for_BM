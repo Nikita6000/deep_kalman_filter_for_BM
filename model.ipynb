{
 "cells": [
  {
   "cell_type": "code",
   "execution_count": 1,
   "metadata": {},
   "outputs": [],
   "source": [
    "import numpy as np\n",
    "import torch\n",
    "from torch import Tensor"
   ]
  },
  {
   "cell_type": "code",
   "execution_count": 2,
   "metadata": {},
   "outputs": [],
   "source": [
    "import matplotlib.pyplot as plt\n",
    "%matplotlib inline"
   ]
  },
  {
   "cell_type": "code",
   "execution_count": 3,
   "metadata": {},
   "outputs": [
    {
     "name": "stderr",
     "output_type": "stream",
     "text": [
      "/home/use/anaconda3/lib/python3.6/importlib/_bootstrap.py:219: RuntimeWarning: numpy.dtype size changed, may indicate binary incompatibility. Expected 96, got 88\n",
      "  return f(*args, **kwds)\n",
      "/home/use/anaconda3/lib/python3.6/importlib/_bootstrap.py:219: RuntimeWarning: numpy.dtype size changed, may indicate binary incompatibility. Expected 96, got 88\n",
      "  return f(*args, **kwds)\n"
     ]
    }
   ],
   "source": [
    "from itertools import chain\n",
    "from healing_mnist import HealingMNIST"
   ]
  },
  {
   "cell_type": "code",
   "execution_count": 4,
   "metadata": {},
   "outputs": [],
   "source": [
    "mnist = HealingMNIST(digits=[1])\n",
    "\n",
    "dataset_size = min(len(mnist.train_images), 6000)\n",
    "\n",
    "X_train = Tensor(mnist.train_images[:dataset_size].reshape(dataset_size, 5, 784).astype(int)).cuda()\n",
    "U_train = Tensor(np.transpose(np.stack([np.sin((mnist.train_rotations[:dataset_size] / 180.) * np.pi * i) for i in range(25)] + [np.cos((mnist.train_rotations[:dataset_size] / 180.) * np.pi * i) for i in range(25)]), axes=[1, 2, 0])).cuda()"
   ]
  },
  {
   "cell_type": "code",
   "execution_count": 5,
   "metadata": {},
   "outputs": [],
   "source": [
    "D = 784\n",
    "dim = D\n",
    "z_dim = 784\n",
    "\n",
    "St = torch.zeros((z_dim), requires_grad=True, device='cuda:0')\n",
    "Sphi = torch.zeros((z_dim), requires_grad=True, device='cuda:0')\n",
    "\n",
    "Fk = torch.nn.Sequential(\n",
    "    torch.nn.Linear(z_dim, dim),\n",
    "    torch.nn.ReLU(),\n",
    "    torch.nn.Linear(dim, dim),\n",
    "    torch.nn.ReLU(),\n",
    "    torch.nn.Linear(dim, dim),\n",
    "    torch.nn.ReLU(),\n",
    "    torch.nn.Linear(dim, dim),\n",
    "    torch.nn.Sigmoid()\n",
    ").cuda()\n",
    "\n",
    "Gk1 = torch.nn.GRUCell(50, z_dim).cuda()\n",
    "Gk2 = torch.nn.GRUCell(50, z_dim).cuda()\n",
    "\n",
    "Q = torch.nn.Sequential(\n",
    "    torch.nn.Linear(dim, z_dim),\n",
    "    torch.nn.ReLU(),\n",
    "    torch.nn.Linear(z_dim, z_dim),\n",
    "    torch.nn.ReLU(),\n",
    "    torch.nn.Linear(z_dim, z_dim),\n",
    "    torch.nn.ReLU(),\n",
    "    torch.nn.Linear(z_dim, z_dim),\n",
    "    torch.nn.ReLU(),\n",
    "    torch.nn.Linear(z_dim, z_dim),\n",
    "    torch.nn.ReLU(),\n",
    "    torch.nn.Linear(z_dim, z_dim),\n",
    "    torch.nn.Sigmoid()\n",
    ").cuda()"
   ]
  },
  {
   "cell_type": "code",
   "execution_count": 6,
   "metadata": {},
   "outputs": [
    {
     "data": {
      "application/vnd.jupyter.widget-view+json": {
       "model_id": "d6956a8025ba41308315ff2b46534e35",
       "version_major": 2,
       "version_minor": 0
      },
      "text/html": [
       "<p>Failed to display Jupyter Widget of type <code>HBox</code>.</p>\n",
       "<p>\n",
       "  If you're reading this message in the Jupyter Notebook or JupyterLab Notebook, it may mean\n",
       "  that the widgets JavaScript is still loading. If this message persists, it\n",
       "  likely means that the widgets JavaScript library is either not installed or\n",
       "  not enabled. See the <a href=\"https://ipywidgets.readthedocs.io/en/stable/user_install.html\">Jupyter\n",
       "  Widgets Documentation</a> for setup instructions.\n",
       "</p>\n",
       "<p>\n",
       "  If you're reading this message in another frontend (for example, a static\n",
       "  rendering on GitHub or <a href=\"https://nbviewer.jupyter.org/\">NBViewer</a>),\n",
       "  it may mean that your frontend doesn't currently support widgets.\n",
       "</p>\n"
      ],
      "text/plain": [
       "HBox(children=(IntProgress(value=0, max=200000), HTML(value='')))"
      ]
     },
     "metadata": {},
     "output_type": "display_data"
    },
    {
     "name": "stdout",
     "output_type": "stream",
     "text": [
      "\n"
     ]
    }
   ],
   "source": [
    "from tqdm import tqdm_notebook\n",
    "\n",
    "T = 5\n",
    "delta = 1\n",
    "\n",
    "optimizer = torch.optim.Adam(chain(Gk1.parameters(), Gk2.parameters(), Fk.parameters(), Q.parameters(), [Sphi, St]), lr=1e-3)\n",
    "l = []\n",
    "lp = []\n",
    "lt = []\n",
    "\n",
    "for k in tqdm_notebook(range(200000)):\n",
    "    \n",
    "    batch_size = 10\n",
    "    \n",
    "    batch_x = X_train[(k%(len(X_train) // batch_size))::(len(X_train) // batch_size)] \n",
    "    batch_u = U_train[(k%(len(X_train) // batch_size))::(len(X_train) // batch_size)]\n",
    "    \n",
    "    sample_size = 20\n",
    "    \n",
    "    SphiPos = torch.exp(Sphi)\n",
    "    StPos = torch.exp(St)\n",
    "\n",
    "    logp = 0\n",
    "    logp += (T-1) * D * torch.prod(StPos)\n",
    "    logp -= T * torch.sum(Sphi)   # sum_t torch.log(torch.prod(Sphi))\n",
    "    logp += torch.prod(SphiPos)  # trace of diag\n",
    "    logp += (T - 1) * torch.prod(SphiPos / StPos)  # sum^T_t=2 trace(diag(St)^-1 @ diag(Sphi))\n",
    "    \n",
    "    \n",
    "    mu_q_t = Q(batch_x)\n",
    "    \n",
    "    logp += torch.mean(torch.sum((mu_q_t[:, 0, :] * mu_q_t[:, 0, :]), dim=1))\n",
    "    \n",
    "    # shape [sample_size, batch_size, 5, 784], random\n",
    "    sample_z = mu_q_t + (SphiPos * torch.normal(torch.zeros((sample_size, batch_size, 5, z_dim), device='cuda:0'), \n",
    "                                                torch.ones((sample_size, batch_size, 5, z_dim), device='cuda:0')))\n",
    "    # shape [sample_size, batch_size, 5, 784], random\n",
    "    Gt_tmp = Gk1(batch_u.unsqueeze(0).repeat(sample_size, 1, 1, 1).reshape(sample_size*batch_size*5, -1), \n",
    "                 sample_z.reshape(sample_size*batch_size*5, -1))\n",
    "\n",
    "    Gt_t_2T = Gk2(batch_u.unsqueeze(0).repeat(sample_size, 1, 1, 1).reshape(sample_size*batch_size*5, -1), \n",
    "                  Gt_tmp).reshape(sample_size, batch_size, 5, -1)\n",
    "\n",
    "    # averaging over random sample\n",
    "    logp += (1./(sample_size * batch_size))*torch.sum(((Gt_t_2T[:, :, :4, :] - mu_q_t[:, 1:, :]) * \n",
    "                                                       (Gt_t_2T[:, :, :4, :] - mu_q_t[:, 1:, :]) / StPos))\n",
    "    logp *= 0.5\n",
    "\n",
    "    p = Fk(sample_z)\n",
    "    loss = torch.nn.functional.binary_cross_entropy(input=p.reshape(-1, T*784), \n",
    "                                                    target=batch_x.unsqueeze(0).repeat(sample_size, 1, 1, 1).reshape(-1, T*784))\n",
    "    \n",
    "    total_loss = loss + logp \n",
    "    \n",
    "    total_loss.backward()\n",
    "    optimizer.step()\n",
    "    optimizer.zero_grad()\n",
    "    \n",
    "    l.append(loss.data)\n",
    "    lt.append(total_loss.data)\n",
    "    lp.append(logp.data)"
   ]
  },
  {
   "cell_type": "code",
   "execution_count": 7,
   "metadata": {},
   "outputs": [
    {
     "data": {
      "text/plain": [
       "[<matplotlib.lines.Line2D at 0x7f6055f8c400>]"
      ]
     },
     "execution_count": 7,
     "metadata": {},
     "output_type": "execute_result"
    },
    {
     "data": {
      "image/png": "[encoded data removed]",
      "text/plain": [
       "<matplotlib.figure.Figure at 0x7f608b02b198>"
      ]
     },
     "metadata": {},
     "output_type": "display_data"
    }
   ],
   "source": [
    "plt.plot(lt)"
   ]
  },
  {
   "cell_type": "code",
   "execution_count": 8,
   "metadata": {},
   "outputs": [
    {
     "data": {
      "text/plain": [
       "[<matplotlib.lines.Line2D at 0x7f60876c28d0>]"
      ]
     },
     "execution_count": 8,
     "metadata": {},
     "output_type": "execute_result"
    },
    {
     "data": {
      "image/png": "[encoded data removed]",
      "text/plain": [
       "<matplotlib.figure.Figure at 0x7f608b02bdd8>"
      ]
     },
     "metadata": {},
     "output_type": "display_data"
    }
   ],
   "source": [
    "plt.plot(l)"
   ]
  },
  {
   "cell_type": "code",
   "execution_count": 9,
   "metadata": {},
   "outputs": [
    {
     "data": {
      "text/plain": [
       "[<matplotlib.lines.Line2D at 0x7f6055e8f860>]"
      ]
     },
     "execution_count": 9,
     "metadata": {},
     "output_type": "execute_result"
    },
    {
     "data": {
      "image/png": "[encoded data removed]",
      "text/plain": [
       "<matplotlib.figure.Figure at 0x7f6055f06a58>"
      ]
     },
     "metadata": {},
     "output_type": "display_data"
    }
   ],
   "source": [
    "plt.plot(lp)"
   ]
  },
  {
   "cell_type": "code",
   "execution_count": 10,
   "metadata": {},
   "outputs": [
    {
     "data": {
      "text/plain": [
       "<matplotlib.image.AxesImage at 0x7f6055e006d8>"
      ]
     },
     "execution_count": 10,
     "metadata": {},
     "output_type": "execute_result"
    },
    {
     "data": {
      "image/png": "[encoded data removed]",
      "text/plain": [
       "<matplotlib.figure.Figure at 0x7f6055eab358>"
      ]
     },
     "metadata": {},
     "output_type": "display_data"
    }
   ],
   "source": [
    "plt.imshow(Fk(Q(X_train[5]))[0].detach().reshape(28, 28))"
   ]
  },
  {
   "cell_type": "code",
   "execution_count": 11,
   "metadata": {},
   "outputs": [
    {
     "data": {
      "text/plain": [
       "<matplotlib.image.AxesImage at 0x7f6055ddef60>"
      ]
     },
     "execution_count": 11,
     "metadata": {},
     "output_type": "execute_result"
    },
    {
     "data": {
      "image/png": "[encoded data removed]",
      "text/plain": [
       "<matplotlib.figure.Figure at 0x7f6055e65630>"
      ]
     },
     "metadata": {},
     "output_type": "display_data"
    }
   ],
   "source": [
    "plt.imshow(X_train[0][0].reshape(28, 28))"
   ]
  },
  {
   "cell_type": "code",
   "execution_count": 12,
   "metadata": {},
   "outputs": [
    {
     "data": {
      "text/plain": [
       "<matplotlib.image.AxesImage at 0x7f6055dbda58>"
      ]
     },
     "execution_count": 12,
     "metadata": {},
     "output_type": "execute_result"
    },
    {
     "data": {
      "image/png": "[encoded data removed]",
      "text/plain": [
       "<matplotlib.figure.Figure at 0x7f6055df6eb8>"
      ]
     },
     "metadata": {},
     "output_type": "display_data"
    }
   ],
   "source": [
    "plt.imshow(Q(X_train[2]).detach()[0].reshape(28, 28))"
   ]
  },
  {
   "cell_type": "code",
   "execution_count": 13,
   "metadata": {},
   "outputs": [
    {
     "data": {
      "text/plain": [
       "<matplotlib.image.AxesImage at 0x7f6055d1f470>"
      ]
     },
     "execution_count": 13,
     "metadata": {},
     "output_type": "execute_result"
    },
    {
     "data": {
      "image/png": "[encoded data removed]",
      "text/plain": [
       "<matplotlib.figure.Figure at 0x7f608b2d5358>"
      ]
     },
     "metadata": {},
     "output_type": "display_data"
    }
   ],
   "source": [
    "plt.imshow(Q(X_train[2]).detach()[0].reshape(28, 28))"
   ]
  },
  {
   "cell_type": "code",
   "execution_count": 14,
   "metadata": {},
   "outputs": [
    {
     "data": {
      "text/plain": [
       "tensor([[0., 1., 0.,  ..., 0., 0., 1.],\n",
       "        [1., 0., 1.,  ..., 1., 1., 1.],\n",
       "        [1., 1., 0.,  ..., 0., 1., 0.],\n",
       "        [1., 0., 1.,  ..., 1., 0., 1.],\n",
       "        [1., 0., 0.,  ..., 0., 0., 0.]], device='cuda:0')"
      ]
     },
     "execution_count": 14,
     "metadata": {},
     "output_type": "execute_result"
    }
   ],
   "source": [
    "X_train[0]"
   ]
  },
  {
   "cell_type": "markdown",
   "metadata": {},
   "source": [
    "## Simple Autoencoder"
   ]
  },
  {
   "cell_type": "code",
   "execution_count": 114,
   "metadata": {},
   "outputs": [],
   "source": [
    "mnist = HealingMNIST()\n",
    "\n",
    "# dataset_size = min(len(mnist.train_images), 6000)\n",
    "\n",
    "X_train = Tensor(mnist.train_images.reshape(-1, 5, 784).astype(int)).cuda()"
   ]
  },
  {
   "cell_type": "code",
   "execution_count": 115,
   "metadata": {},
   "outputs": [],
   "source": [
    "encoder = torch.nn.Sequential(\n",
    "    torch.nn.Linear(784, 400),\n",
    "    torch.nn.ReLU(),\n",
    "    torch.nn.Linear(400, 200),\n",
    "    torch.nn.ReLU(),\n",
    "    torch.nn.Linear(200, 100),\n",
    "    torch.nn.ReLU(),\n",
    "    torch.nn.Linear(100, 50),\n",
    ").cuda()\n",
    "\n",
    "decoder = torch.nn.Sequential(\n",
    "    torch.nn.Linear(50, 100),\n",
    "    torch.nn.ReLU(),\n",
    "    torch.nn.Linear(100, 200),\n",
    "    torch.nn.ReLU(),\n",
    "    torch.nn.Linear(200, 400),\n",
    "    torch.nn.ReLU(),\n",
    "    torch.nn.Linear(400, 784),\n",
    "    torch.nn.Sigmoid(),\n",
    ").cuda()"
   ]
  },
  {
   "cell_type": "code",
   "execution_count": 116,
   "metadata": {},
   "outputs": [
    {
     "data": {
      "application/vnd.jupyter.widget-view+json": {
       "model_id": "3df232e327914393ba8099616dd44ee1",
       "version_major": 2,
       "version_minor": 0
      },
      "text/html": [
       "<p>Failed to display Jupyter Widget of type <code>HBox</code>.</p>\n",
       "<p>\n",
       "  If you're reading this message in the Jupyter Notebook or JupyterLab Notebook, it may mean\n",
       "  that the widgets JavaScript is still loading. If this message persists, it\n",
       "  likely means that the widgets JavaScript library is either not installed or\n",
       "  not enabled. See the <a href=\"https://ipywidgets.readthedocs.io/en/stable/user_install.html\">Jupyter\n",
       "  Widgets Documentation</a> for setup instructions.\n",
       "</p>\n",
       "<p>\n",
       "  If you're reading this message in another frontend (for example, a static\n",
       "  rendering on GitHub or <a href=\"https://nbviewer.jupyter.org/\">NBViewer</a>),\n",
       "  it may mean that your frontend doesn't currently support widgets.\n",
       "</p>\n"
      ],
      "text/plain": [
       "HBox(children=(IntProgress(value=0, max=30000), HTML(value='')))"
      ]
     },
     "metadata": {},
     "output_type": "display_data"
    },
    {
     "name": "stdout",
     "output_type": "stream",
     "text": [
      "\n"
     ]
    }
   ],
   "source": [
    "from tqdm import tqdm_notebook\n",
    "\n",
    "\n",
    "optimizer = torch.optim.Adam(chain(encoder.parameters(), decoder.parameters()), lr=1e-3)\n",
    "l = []\n",
    "for k in tqdm_notebook(range(30000)):\n",
    "    \n",
    "    batch_size = 1\n",
    "    \n",
    "    batch_x = X_train[(k%(len(X_train) // batch_size))::(len(X_train) // batch_size)].reshape(-1, 784) \n",
    "    \n",
    "    z = encoder(batch_x)\n",
    "    restored = decoder(z)\n",
    "    \n",
    "    loss = torch.nn.functional.binary_cross_entropy(input=restored, target=batch_x)\n",
    "    \n",
    "    loss.backward()\n",
    "    optimizer.step()\n",
    "    optimizer.zero_grad()\n",
    "    \n",
    "    l.append(loss.data)"
   ]
  },
  {
   "cell_type": "code",
   "execution_count": 117,
   "metadata": {},
   "outputs": [
    {
     "data": {
      "text/plain": [
       "<matplotlib.image.AxesImage at 0x7f6053637e48>"
      ]
     },
     "execution_count": 117,
     "metadata": {},
     "output_type": "execute_result"
    },
    {
     "data": {
      "image/png": "[encoded data removed]",
      "text/plain": [
       "<matplotlib.figure.Figure at 0x7f6085d3add8>"
      ]
     },
     "metadata": {},
     "output_type": "display_data"
    }
   ],
   "source": [
    "plt.imshow(decoder(encoder(X_train[21][0])).detach().reshape(28, 28))"
   ]
  },
  {
   "cell_type": "code",
   "execution_count": 119,
   "metadata": {},
   "outputs": [
    {
     "data": {
      "text/plain": [
       "<matplotlib.image.AxesImage at 0x7f605171c080>"
      ]
     },
     "execution_count": 119,
     "metadata": {},
     "output_type": "execute_result"
    },
    {
     "data": {
      "image/png": "[encoded data removed]",
      "text/plain": [
       "<matplotlib.figure.Figure at 0x7f6051e357f0>"
      ]
     },
     "metadata": {},
     "output_type": "display_data"
    }
   ],
   "source": [
    "plt.imshow(decoder(encoder(X_train[12][0])).detach().reshape(28, 28))"
   ]
  },
  {
   "cell_type": "code",
   "execution_count": 124,
   "metadata": {},
   "outputs": [
    {
     "data": {
      "text/plain": [
       "<matplotlib.image.AxesImage at 0x7f60515d6278>"
      ]
     },
     "execution_count": 124,
     "metadata": {},
     "output_type": "execute_result"
    },
    {
     "data": {
      "image/png": "[encoded data removed]",
      "text/plain": [
       "<matplotlib.figure.Figure at 0x7f60515e31d0>"
      ]
     },
     "metadata": {},
     "output_type": "display_data"
    }
   ],
   "source": [
    "plt.imshow(decoder(encoder(X_train[5][0])).detach().reshape(28, 28))"
   ]
  },
  {
   "cell_type": "code",
   "execution_count": 156,
   "metadata": {},
   "outputs": [
    {
     "data": {
      "text/plain": [
       "<matplotlib.image.AxesImage at 0x7f6050cb6278>"
      ]
     },
     "execution_count": 156,
     "metadata": {},
     "output_type": "execute_result"
    },
    {
     "data": {
      "image/png": "[encoded data removed]",
      "text/plain": [
       "<matplotlib.figure.Figure at 0x7f6050d4dda0>"
      ]
     },
     "metadata": {},
     "output_type": "display_data"
    }
   ],
   "source": [
    "plt.imshow(decoder(encoder(X_train[67][0])).detach().reshape(28, 28))"
   ]
  },
  {
   "cell_type": "code",
   "execution_count": 174,
   "metadata": {},
   "outputs": [
    {
     "data": {
      "text/plain": [
       "<matplotlib.image.AxesImage at 0x7f6050777908>"
      ]
     },
     "execution_count": 174,
     "metadata": {},
     "output_type": "execute_result"
    },
    {
     "data": {
      "image/png": "[encoded data removed]",
      "text/plain": [
       "<matplotlib.figure.Figure at 0x7f605095cda0>"
      ]
     },
     "metadata": {},
     "output_type": "display_data"
    }
   ],
   "source": [
    "plt.imshow(decoder(encoder(X_train[126][0])).detach().reshape(28, 28))"
   ]
  },
  {
   "cell_type": "code",
   "execution_count": 187,
   "metadata": {},
   "outputs": [
    {
     "data": {
      "text/plain": [
       "<matplotlib.image.AxesImage at 0x7f6050418b00>"
      ]
     },
     "execution_count": 187,
     "metadata": {},
     "output_type": "execute_result"
    },
    {
     "data": {
      "image/png": "[encoded data removed]",
      "text/plain": [
       "<matplotlib.figure.Figure at 0x7f6050c4a630>"
      ]
     },
     "metadata": {},
     "output_type": "display_data"
    }
   ],
   "source": [
    "plt.imshow(decoder(encoder(X_train[139][0])).detach().reshape(28, 28))"
   ]
  },
  {
   "cell_type": "code",
   "execution_count": 228,
   "metadata": {},
   "outputs": [
    {
     "data": {
      "text/plain": [
       "<matplotlib.image.AxesImage at 0x7f604f4a8518>"
      ]
     },
     "execution_count": 228,
     "metadata": {},
     "output_type": "execute_result"
    },
    {
     "data": {
      "image/png": "[encoded data removed]",
      "text/plain": [
       "<matplotlib.figure.Figure at 0x7f604f5d9630>"
      ]
     },
     "metadata": {},
     "output_type": "display_data"
    }
   ],
   "source": [
    "plt.imshow(decoder(encoder(X_train[125][0])).detach().reshape(28, 28))"
   ]
  },
  {
   "cell_type": "code",
   "execution_count": null,
   "metadata": {},
   "outputs": [],
   "source": []
  },
  {
   "cell_type": "code",
   "execution_count": null,
   "metadata": {},
   "outputs": [],
   "source": []
  },
  {
   "cell_type": "code",
   "execution_count": 64,
   "metadata": {},
   "outputs": [
    {
     "data": {
      "text/plain": [
       "<matplotlib.image.AxesImage at 0x7f6085d3afd0>"
      ]
     },
     "execution_count": 64,
     "metadata": {},
     "output_type": "execute_result"
    },
    {
     "data": {
      "image/png": "[encoded data removed]",
      "text/plain": [
       "<matplotlib.figure.Figure at 0x7f6085de4630>"
      ]
     },
     "metadata": {},
     "output_type": "display_data"
    }
   ],
   "source": [
    "plt.imshow(X_train[12][0].detach().reshape(28, 28))"
   ]
  },
  {
   "cell_type": "markdown",
   "metadata": {},
   "source": [
    "## Simple Variational Autoencoder"
   ]
  },
  {
   "cell_type": "code",
   "execution_count": 85,
   "metadata": {},
   "outputs": [],
   "source": [
    "mnist = HealingMNIST(digits=[1])\n",
    "\n",
    "dataset_size = min(len(mnist.train_images), 6000)\n",
    "\n",
    "X_train = Tensor(mnist.train_images[:dataset_size].reshape(-1, 5, 784).astype(int)).cuda()"
   ]
  },
  {
   "cell_type": "code",
   "execution_count": 102,
   "metadata": {},
   "outputs": [],
   "source": [
    "var_encoder = torch.nn.Sequential(\n",
    "    torch.nn.Linear(784, 600),\n",
    "    torch.nn.ReLU(),\n",
    "    torch.nn.Linear(600, 300),\n",
    "    torch.nn.ReLU(),\n",
    "    torch.nn.Linear(300, 200),\n",
    "    torch.nn.ReLU(),\n",
    "    torch.nn.Linear(200, 100),\n",
    ").cuda()\n",
    "\n",
    "var_decoder = torch.nn.Sequential(\n",
    "    torch.nn.Linear(50, 100),\n",
    "    torch.nn.ReLU(),\n",
    "    torch.nn.Linear(100, 200),\n",
    "    torch.nn.ReLU(),\n",
    "    torch.nn.Linear(200, 400),\n",
    "    torch.nn.ReLU(),\n",
    "    torch.nn.Linear(400, 784),\n",
    "    torch.nn.Sigmoid(),\n",
    ").cuda()"
   ]
  },
  {
   "cell_type": "code",
   "execution_count": 104,
   "metadata": {},
   "outputs": [
    {
     "data": {
      "application/vnd.jupyter.widget-view+json": {
       "model_id": "d88fef0bf3644c078625f58c309f55d4",
       "version_major": 2,
       "version_minor": 0
      },
      "text/html": [
       "<p>Failed to display Jupyter Widget of type <code>HBox</code>.</p>\n",
       "<p>\n",
       "  If you're reading this message in the Jupyter Notebook or JupyterLab Notebook, it may mean\n",
       "  that the widgets JavaScript is still loading. If this message persists, it\n",
       "  likely means that the widgets JavaScript library is either not installed or\n",
       "  not enabled. See the <a href=\"https://ipywidgets.readthedocs.io/en/stable/user_install.html\">Jupyter\n",
       "  Widgets Documentation</a> for setup instructions.\n",
       "</p>\n",
       "<p>\n",
       "  If you're reading this message in another frontend (for example, a static\n",
       "  rendering on GitHub or <a href=\"https://nbviewer.jupyter.org/\">NBViewer</a>),\n",
       "  it may mean that your frontend doesn't currently support widgets.\n",
       "</p>\n"
      ],
      "text/plain": [
       "HBox(children=(IntProgress(value=0, max=20000), HTML(value='')))"
      ]
     },
     "metadata": {},
     "output_type": "display_data"
    },
    {
     "name": "stdout",
     "output_type": "stream",
     "text": [
      "\n"
     ]
    }
   ],
   "source": [
    "optimizer = torch.optim.Adam(chain(encoder.parameters(), decoder.parameters()), lr=1e-3)\n",
    "l = []\n",
    "for k in tqdm_notebook(range(20000)):\n",
    "    \n",
    "    batch_size = 20\n",
    "    \n",
    "    batch_x = X_train[(k%(len(X_train) // batch_size))::(len(X_train) // batch_size)].reshape(-1, 784) \n",
    "    \n",
    "    batch_size = len(batch_x)\n",
    "    \n",
    "    phi = var_encoder(batch_x)\n",
    "    mu = phi[:, :50]\n",
    "    logvar = phi[:, 50:]\n",
    "    sigma = torch.exp(logvar)\n",
    "    \n",
    "#     sample_size = 10\n",
    "    sample_z = mu + sigma * torch.normal(torch.zeros((batch_size, 50), device='cuda:0'), \n",
    "                                         torch.ones((batch_size, 50), device='cuda:0'))\n",
    "    \n",
    "    restored = var_decoder(sample_z)\n",
    "    \n",
    "    loss = torch.nn.functional.binary_cross_entropy(input=restored, \n",
    "                                                    target=batch_x)\n",
    "    \n",
    "    loss += -0.5 * torch.sum(1 + logvar - mu.pow(2) - logvar.exp())\n",
    "\n",
    "    \n",
    "    loss.backward()\n",
    "    optimizer.step()\n",
    "    optimizer.zero_grad()\n",
    "    \n",
    "    l.append(loss.data)"
   ]
  },
  {
   "cell_type": "code",
   "execution_count": 105,
   "metadata": {},
   "outputs": [
    {
     "data": {
      "text/plain": [
       "[<matplotlib.lines.Line2D at 0x7f6051ee68d0>]"
      ]
     },
     "execution_count": 105,
     "metadata": {},
     "output_type": "execute_result"
    },
    {
     "data": {
      "image/png": "[encoded data removed]",
      "text/plain": [
       "<matplotlib.figure.Figure at 0x7f605236b940>"
      ]
     },
     "metadata": {},
     "output_type": "display_data"
    }
   ],
   "source": [
    "plt.plot(l)"
   ]
  },
  {
   "cell_type": "code",
   "execution_count": 106,
   "metadata": {},
   "outputs": [
    {
     "data": {
      "text/plain": [
       "<matplotlib.image.AxesImage at 0x7f6051eab630>"
      ]
     },
     "execution_count": 106,
     "metadata": {},
     "output_type": "execute_result"
    },
    {
     "data": {
      "image/png": "[encoded data removed]",
      "text/plain": [
       "<matplotlib.figure.Figure at 0x7f60523947b8>"
      ]
     },
     "metadata": {},
     "output_type": "display_data"
    }
   ],
   "source": [
    "plt.imshow(var_decoder(var_encoder(X_train[12][0])[:50]).detach().reshape(28, 28))"
   ]
  },
  {
   "cell_type": "code",
   "execution_count": 96,
   "metadata": {},
   "outputs": [
    {
     "data": {
      "text/plain": [
       "tensor([ 0.0591,  0.0352,  0.0298,  0.0137, -0.0475, -0.0319, -0.0768, -0.0350,\n",
       "        -0.0097, -0.0147,  0.0228,  0.0785, -0.0356, -0.0844,  0.0191, -0.1426,\n",
       "        -0.0581, -0.0259, -0.0645, -0.0734, -0.1097,  0.0245, -0.0602, -0.0277,\n",
       "        -0.0649, -0.0713, -0.0832, -0.0049,  0.0721, -0.0388, -0.0520, -0.0328,\n",
       "         0.0422,  0.0728, -0.0462, -0.0006,  0.0003,  0.0668, -0.0296,  0.0925,\n",
       "         0.0431, -0.0610,  0.0113, -0.0484,  0.0073,  0.1025, -0.0381,  0.0871,\n",
       "        -0.0566,  0.0368], device='cuda:0', grad_fn=<SliceBackward>)"
      ]
     },
     "execution_count": 96,
     "metadata": {},
     "output_type": "execute_result"
    }
   ],
   "source": [
    "var_encoder(X_train[12][0])[:50]"
   ]
  },
  {
   "cell_type": "code",
   "execution_count": 97,
   "metadata": {},
   "outputs": [
    {
     "data": {
      "text/plain": [
       "tensor([-0.0264, -0.0218, -0.0484,  0.0463, -0.0402, -0.0086, -0.0123, -0.0074,\n",
       "        -0.0317, -0.0680, -0.0678,  0.0501,  0.0390, -0.0196, -0.0199,  0.0372,\n",
       "        -0.0215, -0.0329, -0.0447, -0.0337,  0.0780,  0.0021,  0.0135,  0.0913,\n",
       "         0.0669,  0.0065, -0.0655, -0.0477, -0.0071, -0.0266,  0.0635,  0.0091,\n",
       "        -0.0618, -0.0787, -0.0594, -0.0143,  0.0752,  0.0259,  0.0467,  0.0338,\n",
       "        -0.0399,  0.0518,  0.0038,  0.0077,  0.1050, -0.0344, -0.0626, -0.0901,\n",
       "        -0.0535,  0.0804], device='cuda:0', grad_fn=<SliceBackward>)"
      ]
     },
     "execution_count": 97,
     "metadata": {},
     "output_type": "execute_result"
    }
   ],
   "source": [
    "var_encoder(X_train[12][0])[50:]"
   ]
  },
  {
   "cell_type": "code",
   "execution_count": null,
   "metadata": {},
   "outputs": [],
   "source": []
  },
  {
   "cell_type": "code",
   "execution_count": null,
   "metadata": {},
   "outputs": [],
   "source": []
  },
  {
   "cell_type": "code",
   "execution_count": null,
   "metadata": {},
   "outputs": [],
   "source": []
  }
 ],
 "metadata": {
  "kernelspec": {
   "display_name": "Python 3",
   "language": "python",
   "name": "python3"
  },
  "language_info": {
   "codemirror_mode": {
    "name": "ipython",
    "version": 3
   },
   "file_extension": ".py",
   "mimetype": "text/x-python",
   "name": "python",
   "nbconvert_exporter": "python",
   "pygments_lexer": "ipython3",
   "version": "3.6.4"
  }
 },
 "nbformat": 4,
 "nbformat_minor": 2
}
